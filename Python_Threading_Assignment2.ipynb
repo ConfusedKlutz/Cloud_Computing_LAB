{
  "nbformat": 4,
  "nbformat_minor": 0,
  "metadata": {
    "colab": {
      "provenance": [],
      "include_colab_link": true
    },
    "kernelspec": {
      "name": "python3",
      "display_name": "Python 3"
    },
    "language_info": {
      "name": "python"
    }
  },
  "cells": [
    {
      "cell_type": "markdown",
      "metadata": {
        "id": "view-in-github",
        "colab_type": "text"
      },
      "source": [
        "<a href=\"https://colab.research.google.com/github/ConfusedKlutz/Cloud_Computing_LAB/blob/main/Python_Threading_Assignment2.ipynb\" target=\"_parent\"><img src=\"https://colab.research.google.com/assets/colab-badge.svg\" alt=\"Open In Colab\"/></a>"
      ]
    },
    {
      "cell_type": "code",
      "execution_count": null,
      "metadata": {
        "id": "MmKOuXQFJjdQ"
      },
      "outputs": [],
      "source": [
        "import threading\n",
        "from threading import Thread\n",
        "import time\n",
        "\n",
        "def thrdFunc():\n",
        "  print(\"Starting of a thread function\")\n",
        "  time.sleep(5)\n",
        "  print(\"Thread Function Complete\")\n",
        "\n",
        "#check how many threads are there?\n",
        "#talks about the python threads\n",
        "#once this thread stops, the count will reduce to 5\n",
        "#these threads are reflected in the OS, hence python threads are real threads - corresponding to a kernel thread"
      ]
    },
    {
      "cell_type": "code",
      "source": [],
      "metadata": {
        "id": "TnVe1DwzsIqh"
      },
      "execution_count": null,
      "outputs": []
    },
    {
      "cell_type": "code",
      "source": [],
      "metadata": {
        "id": "GeXgnKwasE_-"
      },
      "execution_count": null,
      "outputs": []
    },
    {
      "cell_type": "code",
      "source": [
        "threading.active_count()"
      ],
      "metadata": {
        "colab": {
          "base_uri": "https://localhost:8080/"
        },
        "id": "O5erkRwHOIuh",
        "outputId": "24e0d982-a033-4749-faf3-951cc79e52b6"
      },
      "execution_count": null,
      "outputs": [
        {
          "output_type": "execute_result",
          "data": {
            "text/plain": [
              "5"
            ]
          },
          "metadata": {},
          "execution_count": 15
        }
      ]
    },
    {
      "cell_type": "code",
      "source": [
        "thrd = Thread(target =thrdFunc)\n",
        "thrd.start()\n",
        "print(threading.active_count())\n",
        "thrd.join()\n",
        "print(threading.active_count())\n",
        "#what is the function of join()?\n",
        "#join will wait for the thread to complete"
      ],
      "metadata": {
        "colab": {
          "base_uri": "https://localhost:8080/"
        },
        "id": "TH_i8T9kOnn_",
        "outputId": "ba263a5d-4ea0-4527-b035-01206834f477"
      },
      "execution_count": null,
      "outputs": [
        {
          "output_type": "stream",
          "name": "stdout",
          "text": [
            "Starting of a thread function6\n",
            "\n",
            "Thread Function Complete\n",
            "5\n"
          ]
        }
      ]
    },
    {
      "cell_type": "code",
      "source": [
        "import threading\n",
        "import time\n",
        "\n",
        "start = time.perf_counter()\n",
        "\n",
        "def do_something():\n",
        "  print('Sleeping 5 second...')\n",
        "  time.sleep(5)\n",
        "  print('Done Sleeping...')\n",
        "\n",
        "\n",
        "t1 = threading.Thread(target=do_something)\n",
        "t2 = threading.Thread(target=do_something)\n",
        "\n",
        "t1.start()\n",
        "t2.start()\n",
        "\n",
        "t1.join()\n",
        "t2.join()\n",
        "#will complete before moving on to print their finish times\n",
        "#concurrently started on with both the threads, and soon as the threads were sleeping, it immediately came down and printed the finish statement\n",
        "\n",
        "finish = time.perf_counter()\n",
        "print(f'Finished in {round(finish-start, 2)} second(s)')\n",
        "\n",
        "#what if we wanted to run our code ten times synchronously one after the other, it would take something like 10 seconds\n",
        "#hence we use threads and loops to reduce runtime\n",
        "\n"
      ],
      "metadata": {
        "colab": {
          "base_uri": "https://localhost:8080/"
        },
        "id": "uPzreOGxPNPX",
        "outputId": "90b7a164-8ee6-470c-e2a7-eef56ef1e0d9"
      },
      "execution_count": null,
      "outputs": [
        {
          "output_type": "stream",
          "name": "stdout",
          "text": [
            "Sleeping 5 second...\n",
            "Sleeping 5 second...\n",
            "Done Sleeping...Done Sleeping...\n",
            "\n",
            "Finished in 5.01 second(s)\n"
          ]
        }
      ]
    },
    {
      "cell_type": "code",
      "source": [
        "import threading\n",
        "import time\n",
        "\n",
        "start = time.perf_counter()\n",
        "\n",
        "def do_something():\n",
        "  print('Sleeping 5 second...')\n",
        "  time.sleep(5)\n",
        "  print('Done Sleeping...')\n",
        "\n",
        "\n",
        "threads = []\n",
        "\n",
        "for _ in range(10):\n",
        "  t = threading.Thread(target=do_something)\n",
        "  t.start()\n",
        "  threads.append(t)\n",
        "  #adding a join statement here would result in each thread running one after the other, which is essentially the same as above\n",
        "\n",
        "\n",
        "for thread in threads:\n",
        "  thread.join()\n",
        "\n",
        "finish = time.perf_counter()\n",
        "print(f'Finished in {round(finish-start, 2)} second(s)')\n",
        "\n",
        "#it takes only five seconds to run the script that would essentially take 50seconds to run\n",
        "\n"
      ],
      "metadata": {
        "colab": {
          "base_uri": "https://localhost:8080/"
        },
        "id": "oHEbUWW6SWp1",
        "outputId": "2b14c47b-e3b4-4c72-f7dd-c91a52653344"
      },
      "execution_count": null,
      "outputs": [
        {
          "output_type": "stream",
          "name": "stdout",
          "text": [
            "Sleeping 5 second...Sleeping 5 second...\n",
            "\n",
            "Sleeping 5 second...\n",
            "Sleeping 5 second...\n",
            "Sleeping 5 second...\n",
            "Sleeping 5 second...\n",
            "Sleeping 5 second...\n",
            "Sleeping 5 second...\n",
            "Sleeping 5 second...\n",
            "Sleeping 5 second...\n",
            "Done Sleeping...Done Sleeping...\n",
            "Done Sleeping...\n",
            "\n",
            "Done Sleeping...\n",
            "Done Sleeping...\n",
            "Done Sleeping...Done Sleeping...\n",
            "\n",
            "Done Sleeping...\n",
            "Done Sleeping...\n",
            "Done Sleeping...\n",
            "Finished in 5.02 second(s)\n"
          ]
        }
      ]
    },
    {
      "cell_type": "code",
      "source": [
        "#lets add an argument that specifies how long we want to run our script\n",
        "import threading\n",
        "import time\n",
        "\n",
        "start = time.perf_counter()\n",
        "\n",
        "def do_something(seconds):\n",
        "  print(f'Sleeping {seconds} second(s)...')\n",
        "  time.sleep(seconds)\n",
        "  print('Done Sleeping...')\n",
        "\n",
        "\n",
        "threads = []\n",
        "\n",
        "for _ in range(10):\n",
        "  t = threading.Thread(target=do_something, args=[1.5]) #pass in an argument to the do_something function\n",
        "  t.start()\n",
        "  threads.append(t)\n",
        "  #adding a join statement here would result in each thread running one after the other, which is essentially the same as above\n",
        "\n",
        "\n",
        "for thread in threads:\n",
        "  thread.join()\n",
        "\n",
        "finish = time.perf_counter()\n",
        "print(f'Finished in {round(finish-start, 2)} second(s)')\n",
        "\n",
        "#it takes only five seconds to run the script that would essentially take 50seconds to run\n",
        "#normally it would take 15 seconds to run this synchronously, but here it takes only 1.52 seconds to run this using threads, will gives the illusion of concurrency\n"
      ],
      "metadata": {
        "colab": {
          "base_uri": "https://localhost:8080/"
        },
        "id": "NN7kV5GTTS4T",
        "outputId": "bf547c9c-fd2a-4334-eeb6-981427da2178"
      },
      "execution_count": null,
      "outputs": [
        {
          "output_type": "stream",
          "name": "stdout",
          "text": [
            "Sleeping 1.5 second(s)...\n",
            "Sleeping 1.5 second(s)...\n",
            "Sleeping 1.5 second(s)...\n",
            "Sleeping 1.5 second(s)...Sleeping 1.5 second(s)...\n",
            "\n",
            "Sleeping 1.5 second(s)...\n",
            "Sleeping 1.5 second(s)...\n",
            "Sleeping 1.5 second(s)...\n",
            "Sleeping 1.5 second(s)...\n",
            "Sleeping 1.5 second(s)...\n",
            "Done Sleeping...\n",
            "Done Sleeping...\n",
            "Done Sleeping...\n",
            "Done Sleeping...\n",
            "Done Sleeping...\n",
            "Done Sleeping...\n",
            "Done Sleeping...Done Sleeping...\n",
            "\n",
            "Done Sleeping...\n",
            "Done Sleeping...\n",
            "Finished in 1.52 second(s)\n"
          ]
        }
      ]
    },
    {
      "cell_type": "code",
      "source": [
        "#a thread pool executor\n",
        "#not in the threading module\n",
        "#lets add an argument that specifies how long we want to run our script\n",
        "import concurrent.futures\n",
        "import time\n",
        "\n",
        "start = time.perf_counter()\n",
        "\n",
        "def do_something(seconds):\n",
        "  print(f'Sleeping {seconds} second(s)...')\n",
        "  time.sleep(seconds)\n",
        "  return 'Done Sleeping...' #returning a string\n",
        "\n",
        "with concurrent.futures.ThreadPoolExecutor() as executor:\n",
        "  # we want to execute function once at a time\n",
        "  f1 = executor.submit(do_something, 1) #function to be run for 1 second and returns a feature object that allows us to check in on the object once after its run\n",
        "\n",
        "  f2 = executor.submit(do_something, 1)\n",
        "  print(f1.result()) #waits around until the function completes\n",
        "  print(f2.result())\n",
        "\n",
        "\n",
        "# threads = []\n",
        "\n",
        "# for _ in range(10):\n",
        "#   t = threading.Thread(target=do_something, args=[1.5]) #pass in an argument to the do_something function\n",
        "#   t.start()\n",
        "#   threads.append(t)\n",
        "#   #adding a join statement here would result in each thread running one after the other, which is essentially the same as above\n",
        "\n",
        "\n",
        "# for thread in threads:\n",
        "#   thread.join()\n",
        "\n",
        "finish = time.perf_counter()\n",
        "print(f'Finished in {round(finish-start, 2)} second(s)')\n",
        "\n",
        "# #it takes only five seconds to run the script that would essentially take 50seconds to run\n",
        "# #normally it would take 15 seconds to run this synchronously, but here it takes only 1.52 seconds to run this using threads, will gives the illusion of concurrency\n"
      ],
      "metadata": {
        "colab": {
          "base_uri": "https://localhost:8080/"
        },
        "id": "DCMeCubzUNmx",
        "outputId": "01b0f14f-4fa2-4068-d911-907d89dba5df"
      },
      "execution_count": null,
      "outputs": [
        {
          "output_type": "stream",
          "name": "stdout",
          "text": [
            "Sleeping 1 second(s)...\n",
            "Sleeping 1 second(s)...\n",
            "Done Sleeping...\n",
            "Done Sleeping...\n",
            "Finished in 1.01 second(s)\n"
          ]
        }
      ]
    },
    {
      "cell_type": "code",
      "source": [
        "#a thread pool executor\n",
        "#not in the threading module\n",
        "#lets add an argument that specifies how long we want to run our script\n",
        "import concurrent.futures\n",
        "import time\n",
        "\n",
        "start = time.perf_counter()\n",
        "\n",
        "def do_something(seconds):\n",
        "  print(f'Sleeping {seconds} second(s)...')\n",
        "  time.sleep(seconds)\n",
        "  return f'Done Sleeping for {seconds}s...' #returning a string\n",
        "\n",
        "with concurrent.futures.ThreadPoolExecutor() as executor:\n",
        "  secs = [5, 4, 3, 2, 1]\n",
        "\n",
        "  results = [executor.submit(do_something, sec) for sec in secs] #list comprehension\n",
        "  #submit method submits each function once at a time, in order to submit a list, we need to use a loop or comprehension, or use a math method\n",
        "  #submit method returns a feature object that allows us to check in on the object once after its run\n",
        "  #should get submitted 5 times in the order 5,4,3,2,1 and hence the result 1,2,3,4,5; taking a total of 5seconds or more\n",
        "\n",
        "\n",
        "  for f in concurrent.futures.as_completed(results):\n",
        "    print(f.result()) #waits around until the function completes\n",
        "\n",
        "\n",
        "  #or use a FOR LOOP\n",
        "  # for _ in range(10):\n",
        "  #   f = executor.submit(do_something, 1)\n",
        "\n",
        "  # we want to execute function once at a time\n",
        "  # f1 = executor.submit(do_something, 1) #function to be run for 1 second and returns a feature object that allows us to check in on the object once after its run\n",
        "\n",
        "  # f2 = executor.submit(do_something, 1)\n",
        "  # print(f1.result()) #waits around until the function completes\n",
        "  # print(f2.result())\n",
        "\n",
        "\n",
        "# threads = []\n",
        "\n",
        "# for _ in range(10):\n",
        "#   t = threading.Thread(target=do_something, args=[1.5]) #pass in an argument to the do_something function\n",
        "#   t.start()\n",
        "#   threads.append(t)\n",
        "#   #adding a join statement here would result in each thread running one after the other, which is essentially the same as above\n",
        "\n",
        "\n",
        "# for thread in threads:\n",
        "#   thread.join()\n",
        "\n",
        "finish = time.perf_counter()\n",
        "print(f'Finished in {round(finish-start, 2)} second(s)')\n",
        "\n",
        "# #it takes only five seconds to run the script that would essentially take 50seconds to run\n",
        "# #normally it would take 15 seconds to run this synchronously, but here it takes only 1.52 seconds to run this using threads, will gives the illusion of concurrency\n"
      ],
      "metadata": {
        "colab": {
          "base_uri": "https://localhost:8080/"
        },
        "id": "W2aCSultV0MX",
        "outputId": "593e7821-4c50-4212-feb3-03bced019189"
      },
      "execution_count": null,
      "outputs": [
        {
          "output_type": "stream",
          "name": "stdout",
          "text": [
            "Sleeping 5 second(s)...\n",
            "Sleeping 4 second(s)...\n",
            "Sleeping 3 second(s)...Sleeping 2 second(s)...\n",
            "\n",
            "Sleeping 1 second(s)...\n",
            "Done Sleeping for 1s...\n",
            "Done Sleeping for 2s...\n",
            "Done Sleeping for 3s...\n",
            "Done Sleeping for 4s...\n",
            "Done Sleeping for 5s...\n",
            "Finished in 5.01 second(s)\n"
          ]
        }
      ]
    },
    {
      "cell_type": "code",
      "source": [
        "#a thread pool executor\n",
        "#not in the threading module\n",
        "#lets add an argument that specifies how long we want to run our script\n",
        "#WHEN THE RETURN ORDER MATTERS, WITHOUT SLOWING US DOWN\n",
        "#IF THE FUNCTION RAISES AN EXCEPTION, when its value is retrieved from the iterator\n",
        "import concurrent.futures\n",
        "import time\n",
        "import math\n",
        "\n",
        "start = time.perf_counter()\n",
        "\n",
        "def do_something(seconds):\n",
        "  print(f'Sleeping {seconds} second(s)...')\n",
        "  time.sleep(seconds)\n",
        "  return f'Done Sleeping for {seconds}s...' #returning a string\n",
        "\n",
        "with concurrent.futures.ThreadPoolExecutor() as executor:\n",
        "  secs = [5, 4, 3, 2, 1]\n",
        "\n",
        "  results = executor.map(do_something, secs) #map will run the do something function with every value in the secs list, which is also the iterator\n",
        "  #map will return the results in the order they were started.\n",
        " #even if we were to hash out the results, it would still wait to finish executing and then move to the finish time, rather than giving us 0.0s\n",
        "\n",
        "  for result in results:\n",
        "    print(result)\n",
        "\n",
        "finish = time.perf_counter()\n",
        "print(f'Finished in {round(finish-start, 2)} second(s)')\n",
        "\n",
        "# #it takes only five seconds to run the script that would essentially take 50seconds to run\n",
        "# #normally it would take 15 seconds to run this synchronously, but here it takes only 1.52 seconds to run this using threads, will gives the illusion of concurrency\n"
      ],
      "metadata": {
        "colab": {
          "base_uri": "https://localhost:8080/"
        },
        "id": "bGl6WgzxXnLF",
        "outputId": "7f274aa2-a823-49e9-f1d9-8f2647af5382"
      },
      "execution_count": null,
      "outputs": [
        {
          "output_type": "stream",
          "name": "stdout",
          "text": [
            "Sleeping 5 second(s)...Sleeping 4 second(s)...\n",
            "\n",
            "Sleeping 3 second(s)...\n",
            "Sleeping 2 second(s)...Sleeping 1 second(s)...\n",
            "\n",
            "Done Sleeping for 5s...\n",
            "Done Sleeping for 4s...\n",
            "Done Sleeping for 3s...\n",
            "Done Sleeping for 2s...\n",
            "Done Sleeping for 1s...\n",
            "Finished in 5.01 second(s)\n"
          ]
        }
      ]
    },
    {
      "cell_type": "code",
      "source": [
        "#a simple code that downloads high-res images from UNSPLASH, with and without using threads\n",
        "import requests\n",
        "import time\n",
        "img_urls = [\n",
        "    'https://images.unsplash.com/photo-1516117172878-fd2c41f4a759',\n",
        "    'https://images.unsplash.com/photo-15320093247',\n",
        "    'https://images.unsplash.com/photo-1524429656589-6633a470097c',\n",
        "    'https://images.unsplash.com/photo-153022426476',\n",
        "    'https://images.unsplash.com/photo-1564135624576-c5c88640f235',\n",
        "    'https://images.unsplash.com/photo-154169844',\n",
        "    'https://images.unsplash.com/photo-1522364723953-a6937b9',\n",
        "    'https://images.unsplash.com/photo-1513938709626-033',\n",
        "    'https://images.unsplash.com/photo-1507143550189-b',\n",
        "    'https://images.unsplash.com/photo-1493976040374-85c8e12f0c0e',\n",
        "    'https://images.unsplash.com/photo-1504198453',\n",
        "    'https://images.unsplash.com/photo-1530122037265-a5f1f91',\n",
        "    'https://images.unsplash.com/photo-15169728109',\n",
        "    'https://images.unsplash.com/photo-1550439062-609e1531270e',\n",
        "    'https://images.unsplash.com/photo-1549692520-acc6669e2f0c'\n",
        "]\n",
        "\n",
        "t1 = time.perf_counter()\n",
        "\n",
        "for img_url in img_urls:\n",
        "    img_bytes = requests.get(img_url).content\n",
        "    img_name = img_url.split('/')[3] #simply parses out the string to extract the image name and then we'll append the name with a .jpg tag\n",
        "    img_name = f'{img_name}.jpg'\n",
        "    with open(img_name, 'wb') as img_file:\n",
        "        img_file.write(img_bytes)\n",
        "        print(f'{img_name} was downloaded...')\n",
        "\n",
        "t2 = time.perf_counter()\n",
        "print(f'Finished in {t2-t1} seconds')\n"
      ],
      "metadata": {
        "colab": {
          "base_uri": "https://localhost:8080/"
        },
        "id": "qCbYuhc-YpFi",
        "outputId": "2c1f1e64-b26c-41f6-99bc-e417564999ff"
      },
      "execution_count": null,
      "outputs": [
        {
          "output_type": "stream",
          "name": "stdout",
          "text": [
            "photo-1516117172878-fd2c41f4a759.jpg was downloaded...\n",
            "photo-15320093247.jpg was downloaded...\n",
            "photo-1524429656589-6633a470097c.jpg was downloaded...\n",
            "photo-153022426476.jpg was downloaded...\n",
            "photo-1564135624576-c5c88640f235.jpg was downloaded...\n",
            "photo-154169844.jpg was downloaded...\n",
            "photo-1522364723953-a6937b9.jpg was downloaded...\n",
            "photo-1513938709626-033.jpg was downloaded...\n",
            "photo-1507143550189-b.jpg was downloaded...\n",
            "photo-1493976040374-85c8e12f0c0e.jpg was downloaded...\n",
            "photo-1504198453.jpg was downloaded...\n",
            "photo-1530122037265-a5f1f91.jpg was downloaded...\n",
            "photo-15169728109.jpg was downloaded...\n",
            "photo-1550439062-609e1531270e.jpg was downloaded...\n",
            "photo-1549692520-acc6669e2f0c.jpg was downloaded...\n",
            "Finished in 5.4425507750002 seconds\n"
          ]
        }
      ]
    },
    {
      "cell_type": "code",
      "source": [
        "#a simple code that downloads high-res images from UNSPLASH, with and without using threads\n",
        "import requests\n",
        "import time\n",
        "img_urls = [\n",
        "    'https://images.unsplash.com/photo-1516117172878-fd2c41f4a759',\n",
        "    'https://images.unsplash.com/photo-15320093247',\n",
        "    'https://images.unsplash.com/photo-1524429656589-6633a470097c',\n",
        "    'https://images.unsplash.com/photo-153022426476',\n",
        "    'https://images.unsplash.com/photo-1564135624576-c5c88640f235',\n",
        "    'https://images.unsplash.com/photo-154169844',\n",
        "    'https://images.unsplash.com/photo-1522364723953-a6937b9',\n",
        "    'https://images.unsplash.com/photo-1513938709626-033',\n",
        "    'https://images.unsplash.com/photo-1507143550189-b',\n",
        "    'https://images.unsplash.com/photo-1493976040374-85c8e12f0c0e',\n",
        "    'https://images.unsplash.com/photo-1504198453',\n",
        "    'https://images.unsplash.com/photo-1530122037265-a5f1f91',\n",
        "    'https://images.unsplash.com/photo-15169728109',\n",
        "    'https://images.unsplash.com/photo-1550439062-609e1531270e',\n",
        "    'https://images.unsplash.com/photo-1549692520-acc6669e2f0c'\n",
        "]\n",
        "\n",
        "t1 = time.perf_counter()\n",
        "def download_image(img_url):\n",
        "    img_bytes = requests.get(img_url).content\n",
        "    img_name = img_url.split('/')[3] #simply parses out the string to extract the image name and then we'll append the name with a .jpg tag\n",
        "    img_name = f'{img_name}.jpg'\n",
        "    with open(img_name, 'wb') as img_file:\n",
        "        img_file.write(img_bytes)\n",
        "        print(f'{img_name} was downloaded...')\n",
        "\n",
        "with concurrent.futures.ThreadPoolExecutor() as executor:\n",
        "  executor.map(download_image, img_urls)\n",
        "#will use a different thread for each image, making the process asynchronous, cause the threads dont wait for the previous image to finish\n",
        "t2 = time.perf_counter()\n",
        "print(f'Finished in {t2-t1} seconds')\n"
      ],
      "metadata": {
        "colab": {
          "base_uri": "https://localhost:8080/"
        },
        "id": "XJv-FDUZn-Oe",
        "outputId": "f2e9bb03-38bd-4ab4-9f3f-b41b38d2c253"
      },
      "execution_count": null,
      "outputs": [
        {
          "output_type": "stream",
          "name": "stdout",
          "text": [
            "photo-15320093247.jpg was downloaded...\n",
            "photo-153022426476.jpg was downloaded...\n",
            "photo-154169844.jpg was downloaded...\n",
            "photo-1516117172878-fd2c41f4a759.jpg was downloaded...photo-1522364723953-a6937b9.jpg was downloaded...\n",
            "photo-1513938709626-033.jpg was downloaded...\n",
            "\n",
            "photo-1507143550189-b.jpg was downloaded...\n",
            "photo-1504198453.jpg was downloaded...\n",
            "photo-15169728109.jpg was downloaded...\n",
            "photo-1524429656589-6633a470097c.jpg was downloaded...\n",
            "photo-1530122037265-a5f1f91.jpg was downloaded...\n",
            "photo-1564135624576-c5c88640f235.jpg was downloaded...\n",
            "photo-1550439062-609e1531270e.jpg was downloaded...\n",
            "photo-1549692520-acc6669e2f0c.jpg was downloaded...\n",
            "photo-1493976040374-85c8e12f0c0e.jpg was downloaded...\n",
            "Finished in 0.4110543699998743 seconds\n"
          ]
        }
      ]
    },
    {
      "cell_type": "code",
      "source": [
        "import threading\n",
        "from threading import Thread\n",
        "import time\n",
        "\n",
        "def numbers():\n",
        "    for i in range(1, 11):\n",
        "        print(i)\n",
        "        time.sleep(1)\n",
        "\n",
        "# Start the timer\n",
        "start = time.perf_counter()\n",
        "\n",
        "# Create two threads\n",
        "thread1 = Thread(target=numbers)\n",
        "thread2 = Thread(target=numbers)\n",
        "\n",
        "# Start the threads\n",
        "thread1.start()\n",
        "thread2.start()\n",
        "\n",
        "# Wait for both threads to finish\n",
        "thread1.join()\n",
        "thread2.join()\n",
        "\n",
        "# Stop the timer\n",
        "finish = time.perf_counter()\n",
        "print(f'Finished in {round(finish - start, 2)} second(s)')\n"
      ],
      "metadata": {
        "colab": {
          "base_uri": "https://localhost:8080/"
        },
        "id": "pFh01uvcpHpW",
        "outputId": "32c171b8-a52e-489d-cfaf-eba19e19fae6"
      },
      "execution_count": null,
      "outputs": [
        {
          "output_type": "stream",
          "name": "stdout",
          "text": [
            "1\n",
            "1\n",
            "2\n",
            "2\n",
            "3\n",
            "3\n",
            "4\n",
            "4\n",
            "5\n",
            "5\n",
            "6\n",
            "6\n",
            "7\n",
            "7\n",
            "8\n",
            "8\n",
            "9\n",
            "9\n",
            "10\n",
            "10\n",
            "Finished in 10.01 second(s)\n"
          ]
        }
      ]
    },
    {
      "cell_type": "code",
      "source": [
        "import multiprocessing\n",
        "\n",
        "def sum_of_squares(start, end):\n",
        "    return sum(x**2 for x in range(start, end + 1))\n",
        "\n",
        "if __name__ == \"__main__\":\n",
        "    # Define the ranges for each process\n",
        "    ranges = [(1, 25), (26, 50), (51, 75), (76, 100)]\n",
        "\n",
        "    # Create a pool of processes\n",
        "    with multiprocessing.Pool(processes=4) as pool:\n",
        "        # Map the ranges to the sum_of_squares function across the pool of workers\n",
        "        results = pool.starmap(sum_of_squares, ranges)\n",
        "\n",
        "    # Combine the results from all processes\n",
        "    final_result = sum(results)\n",
        "    print(f\"The sum of squares from 1 to 100 using multiprocessing is: {final_result}\")\n"
      ],
      "metadata": {
        "colab": {
          "base_uri": "https://localhost:8080/"
        },
        "id": "uRIc_EHBtouZ",
        "outputId": "ec54fa4e-96b3-4781-d471-2165529a4927"
      },
      "execution_count": null,
      "outputs": [
        {
          "output_type": "stream",
          "name": "stdout",
          "text": [
            "The sum of squares from 1 to 100 using multiprocessing is: 338350\n"
          ]
        }
      ]
    },
    {
      "cell_type": "code",
      "source": [
        "import time\n",
        "import multiprocessing\n",
        "\n",
        "# Function to calculate the sum of squares for a given range\n",
        "def sum_of_squares(start, end):\n",
        "    return sum(x**2 for x in range(start, end + 1))\n",
        "\n",
        "# Sequential (Normal) Execution\n",
        "def sequential_sum_of_squares():\n",
        "    start_time = time.perf_counter()\n",
        "\n",
        "    result = sum_of_squares(1, 100)\n",
        "\n",
        "    end_time = time.perf_counter()\n",
        "    print(f\"Sequential sum of squares: {result}\")\n",
        "    print(f\"Time taken for sequential execution: {end_time - start_time:.4f} seconds\")\n",
        "\n",
        "# Multiprocessing Execution\n",
        "def multiprocessing_sum_of_squares():\n",
        "    start_time = time.perf_counter()\n",
        "\n",
        "    # Define the ranges for each process\n",
        "    ranges = [(1, 25), (26, 50), (51, 75), (76, 100)]\n",
        "\n",
        "    # Create a pool of processes\n",
        "    with multiprocessing.Pool(processes=4) as pool:\n",
        "        # Map the ranges to the sum_of_squares function across the pool of workers\n",
        "        results = pool.starmap(sum_of_squares, ranges)\n",
        "\n",
        "    # Combine the results from all processes\n",
        "    final_result = sum(results)\n",
        "\n",
        "    end_time = time.perf_counter()\n",
        "    print(f\"Multiprocessing sum of squares: {final_result}\")\n",
        "    print(f\"Time taken for multiprocessing execution: {end_time - start_time:.4f} seconds\")\n",
        "\n",
        "if __name__ == \"__main__\":\n",
        "    # Run the sequential version\n",
        "    sequential_sum_of_squares()\n",
        "\n",
        "    # Run the multiprocessing version\n",
        "    multiprocessing_sum_of_squares()\n"
      ],
      "metadata": {
        "colab": {
          "base_uri": "https://localhost:8080/"
        },
        "id": "QnjFQrQ1t6fV",
        "outputId": "7e84722b-10f4-4865-ebc7-b3bdde12a6c7"
      },
      "execution_count": null,
      "outputs": [
        {
          "output_type": "stream",
          "name": "stdout",
          "text": [
            "Sequential sum of squares: 338350\n",
            "Time taken for sequential execution: 0.0000 seconds\n",
            "Multiprocessing sum of squares: 338350\n",
            "Time taken for multiprocessing execution: 0.0976 seconds\n"
          ]
        }
      ]
    },
    {
      "cell_type": "code",
      "source": [
        "import dask.array as da\n",
        "\n",
        "# Create a Dask array representing numbers from 1 to 100\n",
        "numbers = da.arange(1, 101)\n",
        "\n",
        "# Compute the sum of squares in a distributed manner\n",
        "sum_of_squares = da.sum(numbers ** 2).compute()\n",
        "\n",
        "print(f\"The sum of squares from 1 to 100 using Dask is: {sum_of_squares}\")\n"
      ],
      "metadata": {
        "id": "uRTtdNXF6tCn",
        "outputId": "56a70515-62b3-4832-9bb8-f42203044ace",
        "colab": {
          "base_uri": "https://localhost:8080/"
        }
      },
      "execution_count": null,
      "outputs": [
        {
          "output_type": "stream",
          "name": "stdout",
          "text": [
            "The sum of squares from 1 to 100 using Dask is: 338350\n"
          ]
        }
      ]
    },
    {
      "cell_type": "markdown",
      "source": [
        "q2)**Extend the multithreading exercise to handle web requests using Flask. Later, you can deploy this Flask\n",
        "app to AWS Elastic Beanstalk**"
      ],
      "metadata": {
        "id": "mFI_igYn_6cN"
      }
    },
    {
      "cell_type": "code",
      "source": [
        "from flask import Flask\n",
        "import threading\n",
        "import time\n",
        "app = Flask(__name__)\n",
        "def print_numbers(thread_name):\n",
        "for i in range(1, 11):\n",
        "print(f\"{thread_name}: {i}\")\n",
        "time.sleep(1)\n",
        "@app.route('/')\n",
        "def index():\n",
        "thread1 = threading.Thread(target=print_numbers, args=(\"Thread 1\",))\n",
        "thread2 = threading.Thread(target=print_numbers, args=(\"Thread 2\",))\n",
        "thread1.start()\n",
        "thread2.start()\n",
        "return \"Threads started!\"\n",
        "if __name__ == '__main__':\n",
        "app.run(debug=True)"
      ],
      "metadata": {
        "id": "AWw4gU79_9T2"
      },
      "execution_count": null,
      "outputs": []
    },
    {
      "cell_type": "markdown",
      "source": [
        "# **q1)b**"
      ],
      "metadata": {
        "id": "bH_StqkPAD-X"
      }
    },
    {
      "cell_type": "code",
      "source": [
        "from flask import Flask\n",
        "import threading\n",
        "import time\n",
        "from pyngrok import ngrok\n",
        "app = Flask(__name__)\n",
        "def print_numbers(thread_name):\n",
        "for i in range(1, 11):\n",
        "print(f\"{thread_name}: {i}\")\n",
        "time.sleep(1)\n",
        "@app.route('/')\n",
        "def index():\n",
        "thread1 = threading.Thread(target=print_numbers, args=(\"Thread 1\",))\n",
        "thread2 = threading.Thread(target=print_numbers, args=(\"Thread 2\",))\n",
        "thread1.start()\n",
        "thread2.start()\n",
        "return \"Threads started!\"\n",
        "# Create a tunnel to the public web\n",
        "ngrok_tunnel = ngrok.connect(5000)\n",
        "print(\"Public URL:\", ngrok_tunnel.public_url)\n",
        "if __name__ == '__main__':\n",
        "app.run(port=5000)"
      ],
      "metadata": {
        "id": "7liTCY5FAYll"
      },
      "execution_count": null,
      "outputs": []
    },
    {
      "cell_type": "markdown",
      "source": [
        "# **Q2) **"
      ],
      "metadata": {
        "id": "Apyz4S5EAZZy"
      }
    },
    {
      "cell_type": "code",
      "source": [
        "import json\n",
        "class CloudStorageSim:\n",
        "def __init__(self, filename):\n",
        "self.filename = filename\n",
        "def upload(self, data):\n",
        "with open(self.filename, 'w') as file:\n",
        "json.dump(data, file)\n",
        "def download(self):\n",
        "with open(self.filename, 'r') as file:\n",
        "return json.load(file)\n",
        "data = {\"name\": \"Alice\", \"age\": 30, \"city\": \"Wonderland\"}\n",
        "cloud_storage = CloudStorageSim('data.json')\n",
        "cloud_storage.upload(data)\n",
        "loaded_data = cloud_storage.download()\n",
        "print(f\"Loaded data: {loaded_data}\")"
      ],
      "metadata": {
        "id": "pd7ARiwNAvRC"
      },
      "execution_count": null,
      "outputs": []
    },
    {
      "cell_type": "code",
      "source": [
        "#Q3)\n",
        "import multiprocessing\n",
        "def sum_of_squares(start, end):\n",
        "return sum(x**2 for x in range(start, end + 1))\n",
        "# Define the range and number of processes\n",
        "start = 1\n",
        "end = 100\n",
        "num_processes = 4\n",
        "step = (end - start + 1) // num_processes\n",
        "# Create a pool of processes\n",
        "with multiprocessing.Pool(processes=num_processes) as pool:\n",
        "results = pool.starmap(sum_of_squares, [(i, i + step - 1) for i in\n",
        "range(start, end, step)])\n",
        "# Combine the results\n",
        "total_sum = sum(results)\n",
        "print(f\"Sum of squares from {start} to {end} is {total_sum}\")"
      ],
      "metadata": {
        "id": "h1QYk7_HAxMd"
      },
      "execution_count": null,
      "outputs": []
    },
    {
      "cell_type": "code",
      "source": [
        "#Q3) b)\n",
        "from dask import delayed, compute\n",
        "def sum_of_squares(start, end):\n",
        "return sum(x**2 for x in range(start, end + 1))\n",
        "ranges = [(1, 25), (26, 50), (51, 75), (76, 100)]\n",
        "tasks = [delayed(sum_of_squares)(start, end) for start, end in ranges]\n",
        "results = compute(*tasks)\n",
        "total_sum = sum(results)\n",
        "print(f\"Sum of squares from 1 to 100 is {total_sum}\")"
      ],
      "metadata": {
        "colab": {
          "base_uri": "https://localhost:8080/",
          "height": 106
        },
        "id": "wfxn0IxeA3em",
        "outputId": "339db8b8-ea92-4747-f742-11082fe95807"
      },
      "execution_count": 1,
      "outputs": [
        {
          "output_type": "error",
          "ename": "IndentationError",
          "evalue": "expected an indented block after function definition on line 3 (<ipython-input-1-22d7fd6253ba>, line 4)",
          "traceback": [
            "\u001b[0;36m  File \u001b[0;32m\"<ipython-input-1-22d7fd6253ba>\"\u001b[0;36m, line \u001b[0;32m4\u001b[0m\n\u001b[0;31m    return sum(x**2 for x in range(start, end + 1))\u001b[0m\n\u001b[0m    ^\u001b[0m\n\u001b[0;31mIndentationError\u001b[0m\u001b[0;31m:\u001b[0m expected an indented block after function definition on line 3\n"
          ]
        }
      ]
    }
  ]
}